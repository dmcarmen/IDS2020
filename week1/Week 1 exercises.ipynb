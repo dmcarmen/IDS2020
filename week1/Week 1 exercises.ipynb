{
 "cells": [
  {
   "cell_type": "markdown",
   "metadata": {},
   "source": [
    "# Exercise 1 - Matrix warmup\n",
    "\n",
    "### Basics\n",
    "\n",
    "1. Create two arrays, a and b which each have the integers 0, 1, 2 ..., 1e7 - 1. \n",
    "\n",
    "2. Create a function that uses a for-loop or equivalent to return a new array, which contains the element-wise sum of a and b.\n",
    "\n",
    "3. Now create another function that uses NumPy (or equivalent) to do the same. To try it out, allocate two arrays (e.g np.array in NumPy) and add the arrays together using your function. Don’t use loops, instead, find out how to add the two arrays together directly. What do you notice?"
   ]
  },
  {
   "cell_type": "code",
   "execution_count": 10,
   "metadata": {},
   "outputs": [
    {
     "data": {
      "text/plain": [
       "[9999997, 9999998, 9999999]"
      ]
     },
     "execution_count": 10,
     "metadata": {},
     "output_type": "execute_result"
    }
   ],
   "source": [
    "# 1.\n",
    "a = b = [i for i in range(10**7)]\n",
    "a[10**7-3:]"
   ]
  },
  {
   "cell_type": "code",
   "execution_count": 11,
   "metadata": {},
   "outputs": [
    {
     "data": {
      "text/plain": [
       "[0, 2, 4, 6, 8, 10, 12, 14, 16, 18]"
      ]
     },
     "execution_count": 11,
     "metadata": {},
     "output_type": "execute_result"
    }
   ],
   "source": [
    "# 2.\n",
    "def add_with_for(a, b):\n",
    "    c = []\n",
    "    for i in range(len(a)):\n",
    "        c.append(a[i] + b[i])\n",
    "    return c\n",
    "\n",
    "c = add_with_for(a, b)\n",
    "c[:10]"
   ]
  },
  {
   "cell_type": "code",
   "execution_count": 12,
   "metadata": {},
   "outputs": [],
   "source": [
    "# 3.\n",
    "import numpy as np"
   ]
  },
  {
   "cell_type": "code",
   "execution_count": 13,
   "metadata": {},
   "outputs": [
    {
     "data": {
      "text/plain": [
       "array([ 0,  2,  4,  6,  8, 10, 12, 14, 16, 18])"
      ]
     },
     "execution_count": 13,
     "metadata": {},
     "output_type": "execute_result"
    }
   ],
   "source": [
    "na = nb = np.arange(10**7)\n",
    "\n",
    "def add_with_np(a, b):\n",
    "    return np.add(a,b)\n",
    "\n",
    "nc = add_with_np(na,nb)\n",
    "nc[:10]"
   ]
  },
  {
   "cell_type": "markdown",
   "metadata": {},
   "source": [
    "We can see that numpy is much faster as it is more efficient.\n",
    "\n",
    "### Array manipulation\n",
    "\n",
    "**(a)** Create the following array (hint: reshape)\n",
    "\n",
    "``\n",
    "array([[ 0,  1,  2,  3,  4,  5,  6,  7,  8,  9],\n",
    "       [10, 11, 12, 13, 14, 15, 16, 17, 18, 19],\n",
    "       [20, 21, 22, 23, 24, 25, 26, 27, 28, 29],\n",
    "       [30, 31, 32, 33, 34, 35, 36, 37, 38, 39],\n",
    "       [40, 41, 42, 43, 44, 45, 46, 47, 48, 49],\n",
    "       [50, 51, 52, 53, 54, 55, 56, 57, 58, 59],\n",
    "       [60, 61, 62, 63, 64, 65, 66, 67, 68, 69],\n",
    "       [70, 71, 72, 73, 74, 75, 76, 77, 78, 79],\n",
    "       [80, 81, 82, 83, 84, 85, 86, 87, 88, 89],\n",
    "       [90, 91, 92, 93, 94, 95, 96, 97, 98, 99]])\n",
    "``\n",
    "\n",
    "**(b)** Create the following array\n",
    "\n",
    "``\n",
    "array([[0., 1., 0., 1., 0., 1., 0., 1., 0., 1.],\n",
    "       [0., 1., 0., 1., 0., 1., 0., 1., 0., 1.],\n",
    "       [0., 1., 0., 1., 0., 1., 0., 1., 0., 1.],\n",
    "       [0., 1., 0., 1., 0., 1., 0., 1., 0., 1.],\n",
    "       [0., 1., 0., 1., 0., 1., 0., 1., 0., 1.],\n",
    "       [0., 1., 0., 1., 0., 1., 0., 1., 0., 1.],\n",
    "       [0., 1., 0., 1., 0., 1., 0., 1., 0., 1.],\n",
    "       [0., 1., 0., 1., 0., 1., 0., 1., 0., 1.],\n",
    "       [0., 1., 0., 1., 0., 1., 0., 1., 0., 1.],\n",
    "       [0., 1., 0., 1., 0., 1., 0., 1., 0., 1.]])\n",
    "       ``\n",
    "       \n",
    "**(c)** Create the following array\n",
    "\n",
    "``\n",
    "array([[0., 1., 1., 1., 1., 1., 1., 1., 1., 1.],\n",
    "       [1., 0., 1., 1., 1., 1., 1., 1., 1., 1.],\n",
    "       [1., 1., 0., 1., 1., 1., 1., 1., 1., 1.],\n",
    "       [1., 1., 1., 0., 1., 1., 1., 1., 1., 1.],\n",
    "       [1., 1., 1., 1., 0., 1., 1., 1., 1., 1.],\n",
    "       [1., 1., 1., 1., 1., 0., 1., 1., 1., 1.],\n",
    "       [1., 1., 1., 1., 1., 1., 0., 1., 1., 1.],\n",
    "       [1., 1., 1., 1., 1., 1., 1., 0., 1., 1.],\n",
    "       [1., 1., 1., 1., 1., 1., 1., 1., 0., 1.],\n",
    "       [1., 1., 1., 1., 1., 1., 1., 1., 1., 0.]])\n",
    "      ``\n",
    "\n",
    "**(d)** Create the following array\n",
    "\n",
    "``\n",
    "array([[1., 1., 1., 1., 1., 1., 1., 1., 1., 0.],\n",
    "       [1., 1., 1., 1., 1., 1., 1., 1., 0., 1.],\n",
    "       [1., 1., 1., 1., 1., 1., 1., 0., 1., 1.],\n",
    "       [1., 1., 1., 1., 1., 1., 0., 1., 1., 1.],\n",
    "       [1., 1., 1., 1., 1., 0., 1., 1., 1., 1.],\n",
    "       [1., 1., 1., 1., 0., 1., 1., 1., 1., 1.],\n",
    "       [1., 1., 1., 0., 1., 1., 1., 1., 1., 1.],\n",
    "       [1., 1., 0., 1., 1., 1., 1., 1., 1., 1.],\n",
    "       [1., 0., 1., 1., 1., 1., 1., 1., 1., 1.],\n",
    "       [0., 1., 1., 1., 1., 1., 1., 1., 1., 1.]])\n",
    "       ``\n",
    "       \n",
    "**(e)** Call the last two matrices C and D, respectively. Show that the determinant of their product (matrix multiplication) is the same as the product of their determinants. That is, calculate both det(CD) and det(C) * det(D), and show that they are the same. Why does this hold in this instance? Does it hold in general?"
   ]
  },
  {
   "cell_type": "code",
   "execution_count": 14,
   "metadata": {},
   "outputs": [
    {
     "name": "stdout",
     "output_type": "stream",
     "text": [
      "[[ 0  1  2  3  4  5  6  7  8  9]\n",
      " [10 11 12 13 14 15 16 17 18 19]\n",
      " [20 21 22 23 24 25 26 27 28 29]\n",
      " [30 31 32 33 34 35 36 37 38 39]\n",
      " [40 41 42 43 44 45 46 47 48 49]\n",
      " [50 51 52 53 54 55 56 57 58 59]\n",
      " [60 61 62 63 64 65 66 67 68 69]\n",
      " [70 71 72 73 74 75 76 77 78 79]\n",
      " [80 81 82 83 84 85 86 87 88 89]\n",
      " [90 91 92 93 94 95 96 97 98 99]]\n"
     ]
    }
   ],
   "source": [
    "# a\n",
    "a = np.arange(100).reshape((10, 10))\n",
    "print(a)"
   ]
  },
  {
   "cell_type": "code",
   "execution_count": 15,
   "metadata": {},
   "outputs": [
    {
     "name": "stdout",
     "output_type": "stream",
     "text": [
      "[[0. 1. 0. 1. 0. 1. 0. 1. 0. 1.]\n",
      " [0. 1. 0. 1. 0. 1. 0. 1. 0. 1.]\n",
      " [0. 1. 0. 1. 0. 1. 0. 1. 0. 1.]\n",
      " [0. 1. 0. 1. 0. 1. 0. 1. 0. 1.]\n",
      " [0. 1. 0. 1. 0. 1. 0. 1. 0. 1.]\n",
      " [0. 1. 0. 1. 0. 1. 0. 1. 0. 1.]\n",
      " [0. 1. 0. 1. 0. 1. 0. 1. 0. 1.]\n",
      " [0. 1. 0. 1. 0. 1. 0. 1. 0. 1.]\n",
      " [0. 1. 0. 1. 0. 1. 0. 1. 0. 1.]\n",
      " [0. 1. 0. 1. 0. 1. 0. 1. 0. 1.]]\n"
     ]
    }
   ],
   "source": [
    "# b\n",
    "b = np.arange(2, dtype = float)\n",
    "b = np.tile(b, 50).reshape(10,10)\n",
    "print(b)"
   ]
  },
  {
   "cell_type": "code",
   "execution_count": 16,
   "metadata": {},
   "outputs": [
    {
     "name": "stdout",
     "output_type": "stream",
     "text": [
      "[[0. 1. 1. 1. 1. 1. 1. 1. 1. 1.]\n",
      " [1. 0. 1. 1. 1. 1. 1. 1. 1. 1.]\n",
      " [1. 1. 0. 1. 1. 1. 1. 1. 1. 1.]\n",
      " [1. 1. 1. 0. 1. 1. 1. 1. 1. 1.]\n",
      " [1. 1. 1. 1. 0. 1. 1. 1. 1. 1.]\n",
      " [1. 1. 1. 1. 1. 0. 1. 1. 1. 1.]\n",
      " [1. 1. 1. 1. 1. 1. 0. 1. 1. 1.]\n",
      " [1. 1. 1. 1. 1. 1. 1. 0. 1. 1.]\n",
      " [1. 1. 1. 1. 1. 1. 1. 1. 0. 1.]\n",
      " [1. 1. 1. 1. 1. 1. 1. 1. 1. 0.]]\n"
     ]
    }
   ],
   "source": [
    "# c\n",
    "c = np.ones(100).reshape(10,10)\n",
    "np.fill_diagonal(c,0)\n",
    "print(c)"
   ]
  },
  {
   "cell_type": "code",
   "execution_count": 17,
   "metadata": {},
   "outputs": [
    {
     "name": "stdout",
     "output_type": "stream",
     "text": [
      "[[1. 1. 1. 1. 1. 1. 1. 1. 1. 0.]\n",
      " [1. 1. 1. 1. 1. 1. 1. 1. 0. 1.]\n",
      " [1. 1. 1. 1. 1. 1. 1. 0. 1. 1.]\n",
      " [1. 1. 1. 1. 1. 1. 0. 1. 1. 1.]\n",
      " [1. 1. 1. 1. 1. 0. 1. 1. 1. 1.]\n",
      " [1. 1. 1. 1. 0. 1. 1. 1. 1. 1.]\n",
      " [1. 1. 1. 0. 1. 1. 1. 1. 1. 1.]\n",
      " [1. 1. 0. 1. 1. 1. 1. 1. 1. 1.]\n",
      " [1. 0. 1. 1. 1. 1. 1. 1. 1. 1.]\n",
      " [0. 1. 1. 1. 1. 1. 1. 1. 1. 1.]]\n"
     ]
    }
   ],
   "source": [
    "# d\n",
    "d = np.ones(100).reshape(10,10)\n",
    "np.fill_diagonal(d,0)\n",
    "d = np.flipud(d)\n",
    "print(d)"
   ]
  },
  {
   "cell_type": "code",
   "execution_count": 18,
   "metadata": {},
   "outputs": [
    {
     "name": "stdout",
     "output_type": "stream",
     "text": [
      "Prod of determinants:  -81.0\n",
      "Determinant of products:  -81.00000000000017\n"
     ]
    }
   ],
   "source": [
    "# e\n",
    "detC = np.linalg.det(c)\n",
    "detD = np.linalg.det(d)\n",
    "\n",
    "prodDetCD = detC * detD\n",
    "\n",
    "prodCD = c.dot(d)\n",
    "detProdCD = np.linalg.det(prodCD)\n",
    "\n",
    "print(\"Prod of determinants: \", prodDetCD)\n",
    "print(\"Determinant of products: \", detProdCD)"
   ]
  },
  {
   "cell_type": "markdown",
   "metadata": {},
   "source": [
    "It gives the same result (except an error of calculation). This holds in general for square matrices of the same order.\n",
    "\n",
    "### Slicing \n",
    "\n",
    "1. Load the Boston housing dataset. The data should be a matrix of shape (506, 13), that is, it has 506 rows and 13 columns. Use the shape attribute of numpy arrays to verify this.\n",
    "\n",
    "2. Select rows where the Crime feature (CRIM) is higher than 1. The first few row numbers should be 16, 20, 22 (zero-indexed). How many are there? (hint. np.where)\n",
    "\n",
    "3. Select the rows where the pupil-to-teach ratio is between 16% and 18% (exclusive). There should be 100 of these.\n",
    "\n",
    "4. Find the mean nitric oxides concentration for homes whose median price is more than $25000 (the target variable). It should be around 0.492."
   ]
  },
  {
   "cell_type": "code",
   "execution_count": 19,
   "metadata": {},
   "outputs": [],
   "source": [
    "from sklearn import datasets\n",
    "import pandas as pd\n",
    "import numpy as np"
   ]
  },
  {
   "cell_type": "code",
   "execution_count": 20,
   "metadata": {},
   "outputs": [
    {
     "name": "stdout",
     "output_type": "stream",
     "text": [
      "Shape: (506, 13)\n",
      "\n",
      "      CRIM    ZN  INDUS  CHAS    NOX     RM   AGE     DIS  RAD    TAX  \\\n",
      "0  0.00632  18.0   2.31   0.0  0.538  6.575  65.2  4.0900  1.0  296.0   \n",
      "1  0.02731   0.0   7.07   0.0  0.469  6.421  78.9  4.9671  2.0  242.0   \n",
      "2  0.02729   0.0   7.07   0.0  0.469  7.185  61.1  4.9671  2.0  242.0   \n",
      "3  0.03237   0.0   2.18   0.0  0.458  6.998  45.8  6.0622  3.0  222.0   \n",
      "4  0.06905   0.0   2.18   0.0  0.458  7.147  54.2  6.0622  3.0  222.0   \n",
      "\n",
      "   PTRATIO       B  LSTAT  \n",
      "0     15.3  396.90   4.98  \n",
      "1     17.8  396.90   9.14  \n",
      "2     17.8  392.83   4.03  \n",
      "3     18.7  394.63   2.94  \n",
      "4     18.7  396.90   5.33  \n"
     ]
    }
   ],
   "source": [
    "# 1.\n",
    "bostonBunch = datasets.load_boston()\n",
    "boston = pd.DataFrame(bostonBunch.data, columns = bostonBunch.feature_names)\n",
    "print(\"Shape:\", np.shape(boston))\n",
    "print()\n",
    "print(boston[:5])"
   ]
  },
  {
   "cell_type": "code",
   "execution_count": 21,
   "metadata": {},
   "outputs": [
    {
     "name": "stdout",
     "output_type": "stream",
     "text": [
      "[16 20 22]\n",
      "There are 174 rows.\n"
     ]
    }
   ],
   "source": [
    "# 2.\n",
    "crim1 = np.where(boston['CRIM'] > 1)\n",
    "print(crim1[0][:3])\n",
    "print(\"There are\", len(crim1[0]), \"rows.\")\n",
    "\n",
    "# print(boston[boston['CRIM']>1])"
   ]
  },
  {
   "cell_type": "code",
   "execution_count": 22,
   "metadata": {},
   "outputs": [
    {
     "name": "stdout",
     "output_type": "stream",
     "text": [
      "There are 100 rows.\n"
     ]
    }
   ],
   "source": [
    "# 3.\n",
    "ptt = boston[(boston['PTRATIO']>16) & (boston['PTRATIO']<18)]\n",
    "print(\"There are\", len(ptt), \"rows.\")"
   ]
  },
  {
   "cell_type": "code",
   "execution_count": 23,
   "metadata": {},
   "outputs": [
    {
     "name": "stdout",
     "output_type": "stream",
     "text": [
      "The mean is: 0.4921201612903226\n"
     ]
    }
   ],
   "source": [
    "# 4.\n",
    "boston['MED'] = bostonBunch.target # adding the target to the dataset\n",
    "med25 = boston[boston['MED']>25]\n",
    "meanNOX = np.mean(med25['NOX'])\n",
    "print(\"The mean is:\",meanNOX)"
   ]
  },
  {
   "cell_type": "markdown",
   "metadata": {},
   "source": [
    "# Exercise 2 - Text data\n",
    "\n",
    "Download the automotive 5-core dataset from [here](http://jmcauley.ucsd.edu/data/amazon/). \n",
    "\n",
    "**(a)** Open the json file in your favorite environment.\n",
    "\n",
    "**(b)** Access the reviewText field, and downcase the contents.\n",
    "\n",
    "**(c)** Remove all punctuation, as well as the stop-words. You can find a stop-word list for English e.g [here](http://xpo6.com/download-stop-word-list/).\n",
    "\n",
    "**(d)** Apply a stemmer on the paragraphs, so that inflected forms are mapped to the base form. For example, for python the popular natural language toolkit nltk has an easy-to-use stemmer.\n",
    "\n",
    "**(e)** Filter the data by selecting reviews where the field overall is 4 or 5, and store the review texts in file pos.txt. Similarly, select reviews with rating 1 or 2 and store the reviews in file neg.txt. (Ignore the reviews with overall rating 3.) Each line in the two files should contain exactly one preprocessed review text without the rating."
   ]
  },
  {
   "cell_type": "code",
   "execution_count": 24,
   "metadata": {},
   "outputs": [],
   "source": [
    "import json"
   ]
  },
  {
   "cell_type": "code",
   "execution_count": 25,
   "metadata": {},
   "outputs": [
    {
     "name": "stdout",
     "output_type": "stream",
     "text": [
      "[{'reviewerID': 'A3F73SC1LY51OO', 'asin': 'B00002243X', 'reviewerName': 'Alan Montgomery', 'helpful': [4, 4], 'reviewText': \"I needed a set of jumper cables for my new car and these had good reviews and were at a good price.  They have been used a few times already and do what they are supposed to - no complaints there.What I will say is that 12 feet really isn't an ideal length.  Sure, if you pull up front bumper to front bumper they are plenty long, but a lot of times you will be beside another car or can't get really close.  Because of this, I would recommend something a little longer than 12'.Great brand - get 16' version though.\", 'overall': 5.0, 'summary': 'Work Well - Should Have Bought Longer Ones', 'unixReviewTime': 1313539200, 'reviewTime': '08 17, 2011'}, {'reviewerID': 'A20S66SKYXULG2', 'asin': 'B00002243X', 'reviewerName': 'alphonse', 'helpful': [1, 1], 'reviewText': 'These long cables work fine for my truck, but the quality seems a little on the shabby side. For the money I was not expecting 200 dollar snap-on jumper cables but these seem more like what you would see at a chinese knock off shop like harbor freight for 30 bucks.', 'overall': 4.0, 'summary': 'Okay long cables', 'unixReviewTime': 1315094400, 'reviewTime': '09 4, 2011'}]\n"
     ]
    }
   ],
   "source": [
    "# a\n",
    "data = []\n",
    "for line in open('Automotive_5.json', 'r'):\n",
    "    data.append(json.loads(line))\n",
    "    \n",
    "print(data[:2])"
   ]
  },
  {
   "cell_type": "code",
   "execution_count": 26,
   "metadata": {
    "scrolled": true
   },
   "outputs": [
    {
     "name": "stdout",
     "output_type": "stream",
     "text": [
      "these long cables work fine for my truck, but the quality seems a little on the shabby side. for the money i was not expecting 200 dollar snap-on jumper cables but these seem more like what you would see at a chinese knock off shop like harbor freight for 30 bucks.\n"
     ]
    }
   ],
   "source": [
    "# b\n",
    "for i in range(len(data)):\n",
    "    data[i]['reviewText'] = data[i]['reviewText'].lower()\n",
    "print(data[1]['reviewText'])"
   ]
  },
  {
   "cell_type": "code",
   "execution_count": 27,
   "metadata": {},
   "outputs": [
    {
     "name": "stdout",
     "output_type": "stream",
     "text": [
      "['a', 'about', 'above', 'across', 'after', 'afterwards', 'again', 'against', 'all', 'almost', 'alone', 'along', 'already', 'also', 'although', 'always', 'am', 'among', 'amongst', 'amoungst', 'amount', 'an', 'and', 'another', 'any', 'anyhow', 'anyone', 'anything', 'anyway', 'anywhere', 'are', 'around', 'as', 'at', 'back', 'be', 'became', 'because', 'become', 'becomes', 'becoming', 'been', 'before', 'beforehand', 'behind', 'being', 'below', 'beside', 'besides', 'between', 'beyond', 'bill', 'both', 'bottom', 'but', 'by', 'call', 'can', 'cannot', 'cant', 'co', 'computer', 'con', 'could', 'couldnt', 'cry', 'de', 'describe', 'detail', 'do', 'done', 'down', 'due', 'during', 'each', 'eg', 'eight', 'either', 'eleven', 'else', 'elsewhere', 'empty', 'enough', 'etc', 'even', 'ever', 'every', 'everyone', 'everything', 'everywhere', 'except', 'few', 'fifteen', 'fify', 'fill', 'find', 'fire', 'first', 'five', 'for', 'former', 'formerly', 'forty', 'found', 'four', 'from', 'front', 'full', 'further', 'get', 'give', 'go', 'had', 'has', 'hasnt', 'have', 'he', 'hence', 'her', 'here', 'hereafter', 'hereby', 'herein', 'hereupon', 'hers', 'herse\"', 'him', 'himse\"', 'his', 'how', 'however', 'hundred', 'i', 'ie', 'if', 'in', 'inc', 'indeed', 'interest', 'into', 'is', 'it', 'its', 'itse\"', 'keep', 'last', 'latter', 'latterly', 'least', 'less', 'ltd', 'made', 'many', 'may', 'me', 'meanwhile', 'might', 'mill', 'mine', 'more', 'moreover', 'most', 'mostly', 'move', 'much', 'must', 'my', 'myse\"', 'name', 'namely', 'neither', 'never', 'nevertheless', 'next', 'nine', 'no', 'nobody', 'none', 'noone', 'nor', 'not', 'nothing', 'now', 'nowhere', 'of', 'off', 'often', 'on', 'once', 'one', 'only', 'onto', 'or', 'other', 'others', 'otherwise', 'our', 'ours', 'ourselves', 'out', 'over', 'own', 'part', 'per', 'perhaps', 'please', 'put', 'rather', 're', 'same', 'see', 'seem', 'seemed', 'seeming', 'seems', 'serious', 'several', 'she', 'should', 'show', 'side', 'since', 'sincere', 'six', 'sixty', 'so', 'some', 'somehow', 'someone', 'something', 'sometime', 'sometimes', 'somewhere', 'still', 'such', 'system', 'take', 'ten', 'than', 'that', 'the', 'their', 'them', 'themselves', 'then', 'thence', 'there', 'thereafter', 'thereby', 'therefore', 'therein', 'thereupon', 'these', 'they', 'thick', 'thin', 'third', 'this', 'those', 'though', 'three', 'through', 'throughout', 'thru', 'thus', 'to', 'together', 'too', 'top', 'toward', 'towards', 'twelve', 'twenty', 'two', 'un', 'under', 'until', 'up', 'upon', 'us', 'very', 'via', 'was', 'we', 'well', 'were', 'what', 'whatever', 'when', 'whence', 'whenever', 'where', 'whereafter', 'whereas', 'whereby', 'wherein', 'whereupon', 'wherever', 'whether', 'which', 'while', 'whither', 'who', 'whoever', 'whole', 'whom', 'whose', 'why', 'will', 'with', 'within', 'without', 'would', 'yet', 'you', 'your', 'yours', 'yourself', 'yourselves']\n"
     ]
    }
   ],
   "source": [
    "# c\n",
    "f = open('stop-word-list.txt', 'r')\n",
    "stopwords = f.read().splitlines()\n",
    "print(stopwords)"
   ]
  },
  {
   "cell_type": "code",
   "execution_count": 28,
   "metadata": {
    "scrolled": true
   },
   "outputs": [
    {
     "name": "stdout",
     "output_type": "stream",
     "text": [
      "i needed a set of jumper cables for my new car and these had good reviews and were at a good price  they have been used a few times already and do what they are supposed to  no complaints therewhat i will say is that 12 feet really isnt an ideal length  sure if you pull up front bumper to front bumper they are plenty long but a lot of times you will be beside another car or cant get really close  because of this i would recommend something a little longer than 12great brand  get 16 version though\n"
     ]
    }
   ],
   "source": [
    "import string\n",
    "exclude = string.punctuation\n",
    "\n",
    "for i in range(len(data)):\n",
    "    data[i]['reviewText'] = ''.join(char for char in data[i]['reviewText'] if char not in exclude)\n",
    "\n",
    "print(data[0]['reviewText'])"
   ]
  },
  {
   "cell_type": "code",
   "execution_count": 29,
   "metadata": {
    "scrolled": true
   },
   "outputs": [
    {
     "name": "stdout",
     "output_type": "stream",
     "text": [
      "needed set jumper cables new car good reviews good price used times supposed complaints therewhat say 12 feet really isnt ideal length sure pull bumper bumper plenty long lot times car really close recommend little longer 12great brand 16 version\n"
     ]
    }
   ],
   "source": [
    "for i in range(len(data)):\n",
    "    data[i]['reviewText'] = ' '.join(filter(lambda x: x not in stopwords, data[i]['reviewText'].split()))\n",
    "\n",
    "print(data[0]['reviewText'])"
   ]
  },
  {
   "cell_type": "code",
   "execution_count": 30,
   "metadata": {},
   "outputs": [],
   "source": [
    "# d\n",
    "import nltk\n",
    "from nltk.stem import *"
   ]
  },
  {
   "cell_type": "code",
   "execution_count": 31,
   "metadata": {},
   "outputs": [
    {
     "name": "stdout",
     "output_type": "stream",
     "text": [
      "need set jumper cabl new car good review good price use time suppos complaint therewhat say 12 feet realli isnt ideal length sure pull bumper bumper plenti long lot time car realli close recommend littl longer 12great brand 16 version\n"
     ]
    }
   ],
   "source": [
    "stemmer = PorterStemmer()\n",
    "for i in range(len(data)):\n",
    "    data[i]['reviewText'] = ' '.join(map(lambda x: stemmer.stem(x), data[i]['reviewText'].split()))\n",
    "\n",
    "print(data[0]['reviewText'])"
   ]
  },
  {
   "cell_type": "code",
   "execution_count": 32,
   "metadata": {},
   "outputs": [],
   "source": [
    "# e\n",
    "pos = open('pos.txt', 'w')\n",
    "neg = open('neg.txt', 'w')\n",
    "for i in range(len(data)):\n",
    "    if data[i]['overall'] > 3:\n",
    "        pos.write(data[i]['reviewText'])\n",
    "        pos.write('\\n')\n",
    "    elif data[i]['overall'] < 3:\n",
    "        neg.write(data[i]['reviewText'])\n",
    "        neg.write('\\n')"
   ]
  }
 ],
 "metadata": {
  "kernelspec": {
   "display_name": "Python 3",
   "language": "python",
   "name": "python3"
  },
  "language_info": {
   "codemirror_mode": {
    "name": "ipython",
    "version": 3
   },
   "file_extension": ".py",
   "mimetype": "text/x-python",
   "name": "python",
   "nbconvert_exporter": "python",
   "pygments_lexer": "ipython3",
   "version": "3.6.9"
  }
 },
 "nbformat": 4,
 "nbformat_minor": 2
}
