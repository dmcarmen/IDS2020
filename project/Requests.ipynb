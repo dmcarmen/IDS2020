{
 "cells": [
  {
   "cell_type": "code",
   "execution_count": 109,
   "metadata": {},
   "outputs": [],
   "source": [
    "import pandas as pd\n",
    "import requests\n",
    "import json"
   ]
  },
  {
   "cell_type": "code",
   "execution_count": 110,
   "metadata": {},
   "outputs": [],
   "source": [
    "api_key = '?api_key=RGAPI-e4e6f7a1-6d5a-428f-81cc-95b137c75fbe'\n",
    "web = 'https://euw1.api.riotgames.com/lol/'"
   ]
  },
  {
   "cell_type": "code",
   "execution_count": 113,
   "metadata": {},
   "outputs": [],
   "source": [
    "def get_games_df(game_ids):\n",
    "    df = pd.DataFrame(columns=['gameId', 'winners', 'losers'])\n",
    "    \n",
    "    for gId in game_ids:\n",
    "        gId = str(gId)\n",
    "        response = requests.get(web + 'match/v4/matches/' + gId + api_key)\n",
    "        game = response.json()\n",
    "        \n",
    "        if 'status' in game:\n",
    "            print('Error ' + str(game['status']['status_code']) + ': ' + game['status']['message'] + ' (gameId: ' + gId + ')')\n",
    "        else:\n",
    "            win = []\n",
    "            lose = []\n",
    "            for item in game['participants']:\n",
    "                if item['stats']['win']:\n",
    "                    win.append(item['championId'])\n",
    "                else:\n",
    "                    lose.append(item['championId'])\n",
    "\n",
    "            new_row = {'gameId': game['gameId'], 'winners':win, 'losers':lose}\n",
    "            df = df.append(new_row, ignore_index=True)\n",
    "    return df"
   ]
  },
  {
   "cell_type": "code",
   "execution_count": 114,
   "metadata": {},
   "outputs": [
    {
     "name": "stdout",
     "output_type": "stream",
     "text": [
      "Error 404: Data not found (gameId: 2585564285)\n"
     ]
    },
    {
     "data": {
      "text/html": [
       "<div>\n",
       "<style scoped>\n",
       "    .dataframe tbody tr th:only-of-type {\n",
       "        vertical-align: middle;\n",
       "    }\n",
       "\n",
       "    .dataframe tbody tr th {\n",
       "        vertical-align: top;\n",
       "    }\n",
       "\n",
       "    .dataframe thead th {\n",
       "        text-align: right;\n",
       "    }\n",
       "</style>\n",
       "<table border=\"1\" class=\"dataframe\">\n",
       "  <thead>\n",
       "    <tr style=\"text-align: right;\">\n",
       "      <th></th>\n",
       "      <th>gameId</th>\n",
       "      <th>winners</th>\n",
       "      <th>losers</th>\n",
       "    </tr>\n",
       "  </thead>\n",
       "  <tbody>\n",
       "    <tr>\n",
       "      <th>0</th>\n",
       "      <td>2585563902</td>\n",
       "      <td>[54, 85, 131, 51, 37]</td>\n",
       "      <td>[21, 103, 36, 19, 127]</td>\n",
       "    </tr>\n",
       "    <tr>\n",
       "      <th>1</th>\n",
       "      <td>2585564561</td>\n",
       "      <td>[25, 429, 157, 26, 107]</td>\n",
       "      <td>[21, 19, 1, 44, 89]</td>\n",
       "    </tr>\n",
       "  </tbody>\n",
       "</table>\n",
       "</div>"
      ],
      "text/plain": [
       "       gameId                  winners                  losers\n",
       "0  2585563902    [54, 85, 131, 51, 37]  [21, 103, 36, 19, 127]\n",
       "1  2585564561  [25, 429, 157, 26, 107]     [21, 19, 1, 44, 89]"
      ]
     },
     "execution_count": 114,
     "metadata": {},
     "output_type": "execute_result"
    }
   ],
   "source": [
    "get_games_df([2585563902, 2585564285, 2585564561])"
   ]
  }
 ],
 "metadata": {
  "kernelspec": {
   "display_name": "Python 3",
   "language": "python",
   "name": "python3"
  },
  "language_info": {
   "codemirror_mode": {
    "name": "ipython",
    "version": 3
   },
   "file_extension": ".py",
   "mimetype": "text/x-python",
   "name": "python",
   "nbconvert_exporter": "python",
   "pygments_lexer": "ipython3",
   "version": "3.6.9"
  }
 },
 "nbformat": 4,
 "nbformat_minor": 2
}
