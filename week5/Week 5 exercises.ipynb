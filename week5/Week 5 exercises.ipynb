{
 "cells": [
  {
   "cell_type": "markdown",
   "metadata": {},
   "source": [
    "_Carmen Díez_\n",
    "# Exercise 2 - Neural Networks"
   ]
  },
  {
   "cell_type": "markdown",
   "metadata": {},
   "source": [
    "In this exercise, you can play around parameterizing different dense neural networks in PyTorch, using two distinct datasets.\n",
    "\n",
    "You can experiment with the structure of the networks e.g. number of hidden layers, number of hidden nodes per layer, activation function of each layer, batch normalization, dropout, etc. \n",
    "\n",
    "You can also parameterize the learning process, using different optimizers, learning rates, number of epochs, different loss functions, etc.\n",
    "\n",
    "For each dataset, try learning different models, to get as good accuracy as possible in each classification task."
   ]
  },
  {
   "cell_type": "markdown",
   "metadata": {},
   "source": [
    "### 1. HASYv2 data set"
   ]
  },
  {
   "cell_type": "markdown",
   "metadata": {},
   "source": [
    "Week 3 - exercise 2.1 has info on which file to extract, and we include the preprocessing below."
   ]
  },
  {
   "cell_type": "markdown",
   "metadata": {},
   "source": [
    "### Sign language digits data set\n",
    "You can download X.npy and Y.npy from https://www.kaggle.com/ardamavi/sign-language-digits-dataset.\n",
    "Hint: you can use `np.load('../X.npy')` for extracting the data to a numpy array."
   ]
  },
  {
   "cell_type": "code",
   "execution_count": 1,
   "metadata": {},
   "outputs": [],
   "source": [
    "%matplotlib inline\n",
    "import torch\n",
    "import numpy as np\n",
    "import sklearn\n",
    "import matplotlib.pyplot as plt\n",
    "import pandas as pd\n",
    "import scipy\n",
    "from sklearn.model_selection import train_test_split"
   ]
  },
  {
   "cell_type": "markdown",
   "metadata": {},
   "source": [
    "## 2. Load and preprocess data\n",
    "### Run either of the following two cells depending on which data set you are working on each time"
   ]
  },
  {
   "cell_type": "markdown",
   "metadata": {},
   "source": [
    "### - HASYv2\n",
    "Use a train-test split ratio of 80% of the data used in training."
   ]
  },
  {
   "cell_type": "code",
   "execution_count": 2,
   "metadata": {},
   "outputs": [],
   "source": [
    "df = pd.read_csv('../week3/hasy-data-labels.csv')\n",
    "df = df[df.symbol_id >= 70]\n",
    "df = df[df.symbol_id <= 80]\n",
    "data_vect = []\n",
    "targets = []\n",
    "\n",
    "for index, row in df.iterrows():\n",
    "    img = plt.imread('../week3/'+row['path'])\n",
    "    img = img.flatten()\n",
    "    data_vect.append(img)\n",
    "    targets.append(row['latex'])\n",
    "\n",
    "X_tr, X_te, y_tr, y_te = train_test_split(data_vect, targets, train_size=0.8, test_size=0.2)\n",
    "y_tr = list(map(int, y_tr))\n",
    "y_te = list(map(int, y_te))\n",
    "y_test_var = np.var(y_te)"
   ]
  },
  {
   "cell_type": "markdown",
   "metadata": {},
   "source": [
    "### - Sign language digits\n",
    "Use a train-test split ratio of 80% of the data used in training."
   ]
  },
  {
   "cell_type": "code",
   "execution_count": 34,
   "metadata": {},
   "outputs": [],
   "source": [
    "X = np.load('X.npy')\n",
    "y = np.load('Y.npy').argmax(axis=1)\n",
    "X_tr, X_te, y_tr, y_te = train_test_split(X, y, train_size=0.8, test_size=0.2)\n",
    "y_test_var = np.var(y_te)\n",
    "\n",
    "X_tr = X_tr.reshape(X_tr.shape[0],X_tr.shape[1]*X_tr.shape[2])\n",
    "X_te = X_te.reshape(X_te.shape[0],X_te.shape[1]*X_te.shape[2])"
   ]
  },
  {
   "cell_type": "markdown",
   "metadata": {},
   "source": [
    "### Create pytorch tensors from the numpy arrays"
   ]
  },
  {
   "cell_type": "code",
   "execution_count": 35,
   "metadata": {},
   "outputs": [],
   "source": [
    "X_train = torch.from_numpy(np.array(X_tr, dtype='float32'))\n",
    "y_train = torch.from_numpy(np.array(y_tr, dtype='int_'))\n",
    "X_test = torch.from_numpy(np.array(X_te, dtype='float32'))\n",
    "y_test = torch.from_numpy(np.array(y_te, dtype='int_'))"
   ]
  },
  {
   "cell_type": "markdown",
   "metadata": {},
   "source": [
    "### 3. Neural network parameterization\n",
    "Here you can try different parameterizations of the following attributes:"
   ]
  },
  {
   "cell_type": "code",
   "execution_count": 59,
   "metadata": {},
   "outputs": [],
   "source": [
    "#nn1\n",
    "epochs1 = 100\n",
    "hidden_nodes1 = 6\n",
    "learning_rate1 = 0.05\n",
    "\n",
    "#nn2\n",
    "epochs2 = 100\n",
    "hidden_nodes2 = 16\n",
    "learning_rate2 = 0.05\n",
    "\n",
    "#nn3\n",
    "epochs3 = 100\n",
    "hidden_nodes3 = 10\n",
    "learning_rate3 = 0.07\n",
    "\n",
    "#nn4\n",
    "epochs4 = 100\n",
    "hidden_nodes4 = 20\n",
    "learning_rate4 = 0.02\n",
    "\n",
    "#nn5\n",
    "epochs5 = 100\n",
    "hidden_nodes5 = 6\n",
    "learning_rate5 = 0.08"
   ]
  },
  {
   "cell_type": "markdown",
   "metadata": {},
   "source": [
    "### Defining the neural networks\n",
    "Try as many different architectures as you wish. \n",
    "Change the activation function, batch normalization, add dropout to avoid overfitting, and have more than one layers as shown in nn2.\n",
    "\n",
    "Read the PyTorch cheat sheet and tutorials for info on defining the architecture of the NNs, using activation functions, loss functions and learning rate scheduling https://pytorch.org/tutorials/beginner/ptcheat.html#deep-learning."
   ]
  },
  {
   "cell_type": "code",
   "execution_count": 60,
   "metadata": {},
   "outputs": [
    {
     "name": "stdout",
     "output_type": "stream",
     "text": [
      "Sequential(\n",
      "  (0): Linear(in_features=4096, out_features=6, bias=False)\n",
      "  (1): BatchNorm1d(6, eps=1e-05, momentum=0.1, affine=True, track_running_stats=True)\n",
      "  (2): ReLU()\n",
      "  (3): Linear(in_features=6, out_features=10, bias=True)\n",
      "  (4): Softmax(dim=1)\n",
      ")\n",
      "Sequential(\n",
      "  (0): Linear(in_features=4096, out_features=16, bias=True)\n",
      "  (1): BatchNorm1d(16, eps=1e-05, momentum=0.1, affine=True, track_running_stats=True)\n",
      "  (2): ReLU()\n",
      "  (3): Linear(in_features=16, out_features=10, bias=True)\n",
      "  (4): Softmax(dim=1)\n",
      ")\n"
     ]
    }
   ],
   "source": [
    "nn1 = torch.nn.Sequential(\n",
    "    torch.nn.Linear(X_tr[0].shape[0], hidden_nodes1, bias=False), \n",
    "    torch.nn.BatchNorm1d(hidden_nodes1),\n",
    "    torch.nn.ReLU(),\n",
    "    torch.nn.Linear(hidden_nodes1, 10),\n",
    "    torch.nn.Softmax(dim=1)\n",
    ")\n",
    "\n",
    "nn2 = torch.nn.Sequential(\n",
    "    torch.nn.Linear(X_tr[0].shape[0], hidden_nodes2, bias=True), \n",
    "    torch.nn.BatchNorm1d(hidden_nodes2),\n",
    "    torch.nn.ReLU(),\n",
    "#   torch.nn.Linear(hidden_nodes2, hidden_nodes2),\n",
    "#   torch.nn.ReLU(),\n",
    "    torch.nn.Linear(hidden_nodes2, 10), \n",
    "    torch.nn.Softmax(dim=1)\n",
    ")\n",
    "\n",
    "print(nn1)\n",
    "print(nn2)"
   ]
  },
  {
   "cell_type": "code",
   "execution_count": 76,
   "metadata": {},
   "outputs": [],
   "source": [
    "nn3 = torch.nn.Sequential(\n",
    "    torch.nn.Linear(X_tr[0].shape[0], hidden_nodes3, bias=False), \n",
    "    torch.nn.BatchNorm1d(hidden_nodes3),\n",
    "    torch.nn.SELU(),\n",
    "    torch.nn.Linear(hidden_nodes3, 10),\n",
    "    torch.nn.Softmax(dim=1)\n",
    ")\n",
    "\n",
    "nn4 = torch.nn.Sequential(\n",
    "    torch.nn.Linear(X_tr[0].shape[0], hidden_nodes4, bias=True), \n",
    "    torch.nn.BatchNorm1d(hidden_nodes4),\n",
    "    torch.nn.Linear(hidden_nodes4, 10),\n",
    "    torch.nn.LogSoftmax(dim=1)\n",
    ")\n",
    "\n",
    "nn5 = torch.nn.Sequential(\n",
    "    torch.nn.Linear(X_tr[0].shape[0], hidden_nodes5, bias=True), \n",
    "    torch.nn.BatchNorm1d(hidden_nodes5),\n",
    "    torch.nn.ReLU(),\n",
    "    torch.nn.Linear(hidden_nodes5, 10),\n",
    "    torch.nn.Softmin(dim=1)\n",
    ")"
   ]
  },
  {
   "cell_type": "markdown",
   "metadata": {},
   "source": [
    "### 4. Training the networks\n",
    "On the documentation given above, you can also find different optimizers and losses."
   ]
  },
  {
   "cell_type": "code",
   "execution_count": 77,
   "metadata": {},
   "outputs": [
    {
     "name": "stdout",
     "output_type": "stream",
     "text": [
      "1.5078576803207397\n",
      "1.8711419105529785\n"
     ]
    }
   ],
   "source": [
    "criterion = torch.nn.CrossEntropyLoss()\n",
    "optimizer1 = torch.optim.Rprop(nn1.parameters())\n",
    "optimizer2 = torch.optim.SGD(nn2.parameters(), lr=learning_rate2)\n",
    "\n",
    "loss_values1 = []\n",
    "loss_values2 = []\n",
    "\n",
    "for t in range(epochs1):\n",
    "    optimizer1.zero_grad()\n",
    "    output1 = nn1.forward(X_train)\n",
    "    loss1 = criterion(output1, y_train)\n",
    "    loss1.backward()\n",
    "    optimizer1.step()\n",
    "\n",
    "    loss_values1.append(loss1.item() / len(X_train))\n",
    "    \n",
    "for t in range(epochs2):\n",
    "    optimizer2.zero_grad()\n",
    "    output2 = nn2.forward(X_train)\n",
    "    loss2 = criterion(output2, y_train)\n",
    "    loss2.backward()\n",
    "    optimizer2.step()\n",
    "\n",
    "    loss_values2.append(loss2.item() / len(X_train))\n",
    "\n",
    "print(loss1.item())\n",
    "print(loss2.item())"
   ]
  },
  {
   "cell_type": "code",
   "execution_count": 78,
   "metadata": {},
   "outputs": [],
   "source": [
    "optimizer3 = torch.optim.Rprop(nn3.parameters())\n",
    "optimizer4 = torch.optim.SGD(nn4.parameters(), lr=learning_rate4)\n",
    "optimizer5 = torch.optim.SGD(nn5.parameters(), lr=learning_rate5)\n",
    "\n",
    "loss_values3 = []\n",
    "loss_values4 = []\n",
    "loss_values5 = []\n",
    "\n",
    "for t in range(epochs3):\n",
    "    optimizer3.zero_grad()\n",
    "    output3 = nn3.forward(X_train)\n",
    "    loss3 = criterion(output3, y_train)\n",
    "    loss3.backward()\n",
    "    optimizer3.step()\n",
    "\n",
    "    loss_values3.append(loss3.item() / len(X_train))\n",
    "\n",
    "for t in range(epochs4):\n",
    "    optimizer4.zero_grad()\n",
    "    output4 = nn4.forward(X_train)\n",
    "    loss4 = criterion(output4, y_train)\n",
    "    loss4.backward()\n",
    "    optimizer4.step()\n",
    "\n",
    "    loss_values4.append(loss4.item() / len(X_train))\n",
    "    \n",
    "for t in range(epochs5):\n",
    "    optimizer5.zero_grad()\n",
    "    output5 = nn5.forward(X_train)\n",
    "    loss5 = criterion(output5, y_train)\n",
    "    loss5.backward()\n",
    "    optimizer5.step()\n",
    "\n",
    "    loss_values5.append(loss5.item() / len(X_train))"
   ]
  },
  {
   "cell_type": "code",
   "execution_count": 79,
   "metadata": {},
   "outputs": [],
   "source": [
    "def optimizace(optimizer, epochs, nn, loss_values):\n",
    "    for t in range(epochs):\n",
    "        optimizer.zero_grad()\n",
    "        output = nn.forward(X_train)\n",
    "        loss = criterion(output, y_train)\n",
    "        loss.backward()\n",
    "        optimizer.step()\n",
    "\n",
    "        loss_values.append(loss.item() / len(X_train))"
   ]
  },
  {
   "cell_type": "markdown",
   "metadata": {},
   "source": [
    "### 5. Evaluation\n",
    "Estimate the goodness of fit for each model you try out, and try to come up with the two best models you can for the two datasets."
   ]
  },
  {
   "cell_type": "code",
   "execution_count": 80,
   "metadata": {},
   "outputs": [
    {
     "data": {
      "image/png": "[encoded data removed]",
      "text/plain": [
       "<Figure size 288x288 with 1 Axes>"
      ]
     },
     "metadata": {},
     "output_type": "display_data"
    },
    {
     "data": {
      "image/png": "[encoded data removed]",
      "text/plain": [
       "<Figure size 288x288 with 1 Axes>"
      ]
     },
     "metadata": {},
     "output_type": "display_data"
    }
   ],
   "source": [
    "# predicted classes for the training set - NN1\n",
    "y_pred_tr_nn1 = nn1.forward(X_train).data.numpy().argmax(axis=1)\n",
    "\n",
    "# error for training set - NN1\n",
    "train_error_nn1 = sklearn.metrics.zero_one_loss(y_train, y_pred_tr_nn1)\n",
    "\n",
    "# predicted classes for the test set - NN1\n",
    "y_pred_nn1 = nn1.forward(X_test).data.numpy().argmax(axis=1)\n",
    "\n",
    "# error for test set - NN1\n",
    "test_error_nn1 = sklearn.metrics.zero_one_loss(y_test, y_pred_nn1)\n",
    "\n",
    "# plot confusion matrix\n",
    "plt.matshow(sklearn.metrics.confusion_matrix(y_test, y_pred_nn1))\n",
    "plt.title(\"NN1: training error = %.2f, test error = %.2f\" % (train_error_nn1, test_error_nn1))\n",
    "plt.show()\n",
    "\n",
    "#--------------------------------------------------------------------------------------------------------------------\n",
    "\n",
    "# predicted classes for the training set - NN2\n",
    "y_pred_tr_nn2 = nn2.forward(X_train).data.numpy().argmax(axis=1)\n",
    "\n",
    "# error for training set - NN2\n",
    "train_error_nn2 = sklearn.metrics.zero_one_loss(y_train, y_pred_tr_nn2)\n",
    "\n",
    "# predicted classes for the test set - NN1\n",
    "y_pred_nn2 = nn2.forward(X_test).data.numpy().argmax(axis=1)\n",
    "\n",
    "# error for test set - NN2\n",
    "test_error_nn2 = sklearn.metrics.zero_one_loss(y_test, y_pred_nn2)\n",
    "\n",
    "# plot confusion matrix\n",
    "plt.matshow(sklearn.metrics.confusion_matrix(y_test, y_pred_nn2))\n",
    "plt.title(\"NN2: training error = %.2f, test error = %.2f\" % (train_error_nn2, test_error_nn2))\n",
    "plt.show()"
   ]
  },
  {
   "cell_type": "code",
   "execution_count": 81,
   "metadata": {},
   "outputs": [
    {
     "data": {
      "image/png": "[encoded data removed]",
      "text/plain": [
       "<Figure size 288x288 with 1 Axes>"
      ]
     },
     "metadata": {},
     "output_type": "display_data"
    },
    {
     "data": {
      "image/png": "[encoded data removed]",
      "text/plain": [
       "<Figure size 288x288 with 1 Axes>"
      ]
     },
     "metadata": {},
     "output_type": "display_data"
    },
    {
     "data": {
      "image/png": "[encoded data removed]",
      "text/plain": [
       "<Figure size 288x288 with 1 Axes>"
      ]
     },
     "metadata": {},
     "output_type": "display_data"
    }
   ],
   "source": [
    "y_pred_tr_nn3 = nn3.forward(X_train).data.numpy().argmax(axis=1)\n",
    "train_error_nn3 = sklearn.metrics.zero_one_loss(y_train, y_pred_tr_nn3)\n",
    "y_pred_nn3 = nn3.forward(X_test).data.numpy().argmax(axis=1)\n",
    "test_error_nn3 = sklearn.metrics.zero_one_loss(y_test, y_pred_nn3)\n",
    "\n",
    "plt.matshow(sklearn.metrics.confusion_matrix(y_test, y_pred_nn3))\n",
    "plt.title(\"NN3: training error = %.2f, test error = %.2f\" % (train_error_nn3, test_error_nn3))\n",
    "plt.show()\n",
    "\n",
    "#--------------------------------------------------------------------------------------------------------------------\n",
    "y_pred_tr_nn4 = nn4.forward(X_train).data.numpy().argmax(axis=1)\n",
    "train_error_nn4 = sklearn.metrics.zero_one_loss(y_train, y_pred_tr_nn4)\n",
    "y_pred_nn4 = nn4.forward(X_test).data.numpy().argmax(axis=1)\n",
    "test_error_nn4 = sklearn.metrics.zero_one_loss(y_test, y_pred_nn4)\n",
    "\n",
    "plt.matshow(sklearn.metrics.confusion_matrix(y_test, y_pred_nn4))\n",
    "plt.title(\"NN4: training error = %.2f, test error = %.2f\" % (train_error_nn4, test_error_nn4))\n",
    "plt.show()\n",
    "\n",
    "#--------------------------------------------------------------------------------------------------------------------\n",
    "y_pred_tr_nn5 = nn5.forward(X_train).data.numpy().argmax(axis=1)\n",
    "train_error_nn5 = sklearn.metrics.zero_one_loss(y_train, y_pred_tr_nn5)\n",
    "y_pred_nn5 = nn5.forward(X_test).data.numpy().argmax(axis=1)\n",
    "test_error_nn5 = sklearn.metrics.zero_one_loss(y_test, y_pred_nn5)\n",
    "\n",
    "plt.matshow(sklearn.metrics.confusion_matrix(y_test, y_pred_nn5))\n",
    "plt.title(\"NN5: training error = %.2f, test error = %.2f\" % (train_error_nn5, test_error_nn5))\n",
    "plt.show()"
   ]
  },
  {
   "cell_type": "markdown",
   "metadata": {},
   "source": [
    "The best fit models for both datasets are NN3 and NN4. We see that NN1 is not bad either but a little bit overfitted. Then NN2 and NN5 have a lot of error (both training and test)."
   ]
  },
  {
   "cell_type": "markdown",
   "metadata": {},
   "source": [
    "### Loss functions over epochs"
   ]
  },
  {
   "cell_type": "code",
   "execution_count": 67,
   "metadata": {},
   "outputs": [
    {
     "data": {
      "image/png": "[encoded data removed]",
      "text/plain": [
       "<Figure size 432x288 with 1 Axes>"
      ]
     },
     "metadata": {},
     "output_type": "display_data"
    }
   ],
   "source": [
    "plt.title(\"NN1 and NN2 - Losses over number of epochs\")        \n",
    "plt.plot(loss_values1[0:], label='NN1')\n",
    "plt.plot(loss_values2[0:], label='NN2')\n",
    "plt.plot(loss_values3[0:], label='NN3')\n",
    "plt.plot(loss_values4[0:], label='NN4')\n",
    "plt.plot(loss_values5[0:], label='NN5')\n",
    "plt.xlabel('number of epochs')\n",
    "plt.ylabel('loss')\n",
    "plt.legend(loc='upper right')\n",
    "plt.show()"
   ]
  },
  {
   "cell_type": "markdown",
   "metadata": {},
   "source": [
    "NN4 loss goes to the lowest number faster than any of them. The others go down but NN1 and NN3 stay at ~0.001. Then the worst performing (NN2 and NN5) have a big loss all the time."
   ]
  },
  {
   "cell_type": "markdown",
   "metadata": {},
   "source": [
    "## 6. Random Forest Classifier\n",
    "Below we implement a Random Forest Classifier (RFC). Try different parameterizations here as well. Compare your best achieved scores with the different models. Which performs best? NNs or RFC? \n",
    "\n",
    "The dense NNs we use in this exercise are a bit simple, more complex NNs, such as a Convolutional Neural Network would generally do better than RFC."
   ]
  },
  {
   "cell_type": "code",
   "execution_count": 45,
   "metadata": {},
   "outputs": [
    {
     "data": {
      "image/png": "[encoded data removed]",
      "text/plain": [
       "<Figure size 288x288 with 1 Axes>"
      ]
     },
     "metadata": {},
     "output_type": "display_data"
    }
   ],
   "source": [
    "from sklearn.ensemble import RandomForestClassifier\n",
    "\n",
    "rf = RandomForestClassifier(max_depth=15, random_state=0, n_estimators=200)\n",
    "rf.fit(X_train, y_train)\n",
    "y_predtrain_rf = rf.predict(X_train)\n",
    "train_error_rf = sklearn.metrics.zero_one_loss(y_train, y_predtrain_rf)\n",
    "y_pred_rf = rf.predict(X_test)\n",
    "test_error_rf = sklearn.metrics.zero_one_loss(y_test, y_pred_rf)\n",
    "\n",
    "# plot confusion matrix\n",
    "plt.matshow(sklearn.metrics.confusion_matrix(y_test, y_pred_rf))\n",
    "plt.title(\"RFC: training error = %.2f, test error = %.2f\" % (train_error_rf, test_error_rf))\n",
    "plt.show()"
   ]
  },
  {
   "cell_type": "code",
   "execution_count": 46,
   "metadata": {},
   "outputs": [
    {
     "data": {
      "image/png": "[encoded data removed]",
      "text/plain": [
       "<Figure size 288x288 with 1 Axes>"
      ]
     },
     "metadata": {},
     "output_type": "display_data"
    }
   ],
   "source": [
    "rf2 = RandomForestClassifier(max_depth=10, random_state=0, n_estimators=20)\n",
    "rf2.fit(X_train, y_train)\n",
    "y_predtrain_rf2 = rf2.predict(X_train)\n",
    "train_error_rf2 = sklearn.metrics.zero_one_loss(y_train, y_predtrain_rf2)\n",
    "y_pred_rf2 = rf2.predict(X_test)\n",
    "test_error_rf2 = sklearn.metrics.zero_one_loss(y_test, y_pred_rf2)\n",
    "\n",
    "# plot confusion matrix\n",
    "plt.matshow(sklearn.metrics.confusion_matrix(y_test, y_pred_rf2))\n",
    "plt.title(\"RFC: training error = %.2f, test error = %.2f\" % (train_error_rf2, test_error_rf2))\n",
    "plt.show()"
   ]
  },
  {
   "cell_type": "code",
   "execution_count": 47,
   "metadata": {},
   "outputs": [
    {
     "data": {
      "image/png": "[encoded data removed]",
      "text/plain": [
       "<Figure size 288x288 with 1 Axes>"
      ]
     },
     "metadata": {},
     "output_type": "display_data"
    }
   ],
   "source": [
    "rf3 = RandomForestClassifier(max_depth=20, random_state=42, n_estimators=50)\n",
    "rf3.fit(X_train, y_train)\n",
    "y_predtrain_rf3 = rf3.predict(X_train)\n",
    "train_error_rf3 = sklearn.metrics.zero_one_loss(y_train, y_predtrain_rf3)\n",
    "y_pred_rf3 = rf3.predict(X_test)\n",
    "test_error_rf3 = sklearn.metrics.zero_one_loss(y_test, y_pred_rf3)\n",
    "\n",
    "# plot confusion matrix\n",
    "plt.matshow(sklearn.metrics.confusion_matrix(y_test, y_pred_rf3))\n",
    "plt.title(\"RFC: training error = %.2f, test error = %.2f\" % (train_error_rf3, test_error_rf3))\n",
    "plt.show()"
   ]
  },
  {
   "cell_type": "markdown",
   "metadata": {},
   "source": [
    "Trying different max_depth and n_estimators we see that when they are bigger it is better, but ti attains a point where it doesn't keep improving. \n",
    "\n",
    "Comparing this to the NNs, RFC performs better (even being a little overfitted). If we used more complex NNs they might have better performance."
   ]
  }
 ],
 "metadata": {
  "kernelspec": {
   "display_name": "Python 3",
   "language": "python",
   "name": "python3"
  },
  "language_info": {
   "codemirror_mode": {
    "name": "ipython",
    "version": 3
   },
   "file_extension": ".py",
   "mimetype": "text/x-python",
   "name": "python",
   "nbconvert_exporter": "python",
   "pygments_lexer": "ipython3",
   "version": "3.6.9"
  }
 },
 "nbformat": 4,
 "nbformat_minor": 2
}
